{
 "cells": [
  {
   "cell_type": "code",
   "execution_count": null,
   "id": "05e1d430",
   "metadata": {},
   "outputs": [],
   "source": [
    "import pandas as pd"
   ]
  },
  {
   "cell_type": "code",
   "execution_count": 2,
   "id": "dd977874",
   "metadata": {},
   "outputs": [],
   "source": [
    "import streamlit as st"
   ]
  },
  {
   "cell_type": "code",
   "execution_count": 8,
   "id": "d74f30c5",
   "metadata": {},
   "outputs": [
    {
     "name": "stderr",
     "output_type": "stream",
     "text": [
      "C:\\Users\\brind\\AppData\\Local\\Temp\\ipykernel_12956\\3772796474.py:1: DtypeWarning: Columns (10) have mixed types. Specify dtype option on import or set low_memory=False.\n",
      "  df = pd.read_csv(r\"C:\\MyNewProject\\traffic_stops - traffic_stops_with_vehicle_number.csv\")\n"
     ]
    }
   ],
   "source": [
    "df = pd.read_csv(r\"C:\\MyNewProject\\traffic_stops - traffic_stops_with_vehicle_number.csv\")"
   ]
  },
  {
   "cell_type": "code",
   "execution_count": 9,
   "id": "f7582b1a",
   "metadata": {},
   "outputs": [
    {
     "data": {
      "text/html": [
       "<div>\n",
       "<style scoped>\n",
       "    .dataframe tbody tr th:only-of-type {\n",
       "        vertical-align: middle;\n",
       "    }\n",
       "\n",
       "    .dataframe tbody tr th {\n",
       "        vertical-align: top;\n",
       "    }\n",
       "\n",
       "    .dataframe thead th {\n",
       "        text-align: right;\n",
       "    }\n",
       "</style>\n",
       "<table border=\"1\" class=\"dataframe\">\n",
       "  <thead>\n",
       "    <tr style=\"text-align: right;\">\n",
       "      <th></th>\n",
       "      <th>stop_date</th>\n",
       "      <th>stop_time</th>\n",
       "      <th>country_name</th>\n",
       "      <th>driver_gender</th>\n",
       "      <th>driver_age_raw</th>\n",
       "      <th>driver_age</th>\n",
       "      <th>driver_race</th>\n",
       "      <th>violation_raw</th>\n",
       "      <th>violation</th>\n",
       "      <th>search_conducted</th>\n",
       "      <th>search_type</th>\n",
       "      <th>stop_outcome</th>\n",
       "      <th>is_arrested</th>\n",
       "      <th>stop_duration</th>\n",
       "      <th>drugs_related_stop</th>\n",
       "      <th>vehicle_number</th>\n",
       "    </tr>\n",
       "  </thead>\n",
       "  <tbody>\n",
       "    <tr>\n",
       "      <th>0</th>\n",
       "      <td>2020-01-01</td>\n",
       "      <td>0:00:00</td>\n",
       "      <td>Canada</td>\n",
       "      <td>M</td>\n",
       "      <td>59</td>\n",
       "      <td>19</td>\n",
       "      <td>Asian</td>\n",
       "      <td>Drunk Driving</td>\n",
       "      <td>Speeding</td>\n",
       "      <td>True</td>\n",
       "      <td>Vehicle Search</td>\n",
       "      <td>Ticket</td>\n",
       "      <td>True</td>\n",
       "      <td>16-30 Min</td>\n",
       "      <td>True</td>\n",
       "      <td>UP76DY3473</td>\n",
       "    </tr>\n",
       "    <tr>\n",
       "      <th>1</th>\n",
       "      <td>2020-01-01</td>\n",
       "      <td>0:01:00</td>\n",
       "      <td>India</td>\n",
       "      <td>M</td>\n",
       "      <td>35</td>\n",
       "      <td>58</td>\n",
       "      <td>Other</td>\n",
       "      <td>Other</td>\n",
       "      <td>Other</td>\n",
       "      <td>False</td>\n",
       "      <td>Vehicle Search</td>\n",
       "      <td>Arrest</td>\n",
       "      <td>True</td>\n",
       "      <td>16-30 Min</td>\n",
       "      <td>True</td>\n",
       "      <td>RJ83PZ4441</td>\n",
       "    </tr>\n",
       "    <tr>\n",
       "      <th>2</th>\n",
       "      <td>2020-01-01</td>\n",
       "      <td>0:02:00</td>\n",
       "      <td>USA</td>\n",
       "      <td>M</td>\n",
       "      <td>26</td>\n",
       "      <td>76</td>\n",
       "      <td>Black</td>\n",
       "      <td>Signal Violation</td>\n",
       "      <td>Speeding</td>\n",
       "      <td>False</td>\n",
       "      <td>Frisk</td>\n",
       "      <td>Ticket</td>\n",
       "      <td>True</td>\n",
       "      <td>16-30 Min</td>\n",
       "      <td>True</td>\n",
       "      <td>RJ32OM7264</td>\n",
       "    </tr>\n",
       "    <tr>\n",
       "      <th>3</th>\n",
       "      <td>2020-01-01</td>\n",
       "      <td>0:03:00</td>\n",
       "      <td>Canada</td>\n",
       "      <td>M</td>\n",
       "      <td>26</td>\n",
       "      <td>76</td>\n",
       "      <td>Black</td>\n",
       "      <td>Speeding</td>\n",
       "      <td>DUI</td>\n",
       "      <td>True</td>\n",
       "      <td>Frisk</td>\n",
       "      <td>Warning</td>\n",
       "      <td>False</td>\n",
       "      <td>0-15 Min</td>\n",
       "      <td>True</td>\n",
       "      <td>RJ76TI3807</td>\n",
       "    </tr>\n",
       "    <tr>\n",
       "      <th>4</th>\n",
       "      <td>2020-01-01</td>\n",
       "      <td>0:04:00</td>\n",
       "      <td>Canada</td>\n",
       "      <td>M</td>\n",
       "      <td>62</td>\n",
       "      <td>75</td>\n",
       "      <td>Other</td>\n",
       "      <td>Speeding</td>\n",
       "      <td>Other</td>\n",
       "      <td>False</td>\n",
       "      <td>Vehicle Search</td>\n",
       "      <td>Arrest</td>\n",
       "      <td>True</td>\n",
       "      <td>16-30 Min</td>\n",
       "      <td>False</td>\n",
       "      <td>WB63BB8305</td>\n",
       "    </tr>\n",
       "    <tr>\n",
       "      <th>...</th>\n",
       "      <td>...</td>\n",
       "      <td>...</td>\n",
       "      <td>...</td>\n",
       "      <td>...</td>\n",
       "      <td>...</td>\n",
       "      <td>...</td>\n",
       "      <td>...</td>\n",
       "      <td>...</td>\n",
       "      <td>...</td>\n",
       "      <td>...</td>\n",
       "      <td>...</td>\n",
       "      <td>...</td>\n",
       "      <td>...</td>\n",
       "      <td>...</td>\n",
       "      <td>...</td>\n",
       "      <td>...</td>\n",
       "    </tr>\n",
       "    <tr>\n",
       "      <th>65533</th>\n",
       "      <td>2020-02-15</td>\n",
       "      <td>12:13:00</td>\n",
       "      <td>India</td>\n",
       "      <td>F</td>\n",
       "      <td>54</td>\n",
       "      <td>48</td>\n",
       "      <td>Black</td>\n",
       "      <td>Other</td>\n",
       "      <td>Other</td>\n",
       "      <td>False</td>\n",
       "      <td>Vehicle Search</td>\n",
       "      <td>Arrest</td>\n",
       "      <td>True</td>\n",
       "      <td>16-30 Min</td>\n",
       "      <td>False</td>\n",
       "      <td>DL56GW6568</td>\n",
       "    </tr>\n",
       "    <tr>\n",
       "      <th>65534</th>\n",
       "      <td>2020-02-15</td>\n",
       "      <td>12:14:00</td>\n",
       "      <td>Canada</td>\n",
       "      <td>F</td>\n",
       "      <td>18</td>\n",
       "      <td>35</td>\n",
       "      <td>Hispanic</td>\n",
       "      <td>Seatbelt</td>\n",
       "      <td>Other</td>\n",
       "      <td>True</td>\n",
       "      <td>Vehicle Search</td>\n",
       "      <td>Ticket</td>\n",
       "      <td>False</td>\n",
       "      <td>16-30 Min</td>\n",
       "      <td>True</td>\n",
       "      <td>TN73EO7098</td>\n",
       "    </tr>\n",
       "    <tr>\n",
       "      <th>65535</th>\n",
       "      <td>2020-02-15</td>\n",
       "      <td>12:15:00</td>\n",
       "      <td>USA</td>\n",
       "      <td>M</td>\n",
       "      <td>27</td>\n",
       "      <td>41</td>\n",
       "      <td>Asian</td>\n",
       "      <td>Seatbelt</td>\n",
       "      <td>DUI</td>\n",
       "      <td>True</td>\n",
       "      <td>Frisk</td>\n",
       "      <td>Ticket</td>\n",
       "      <td>True</td>\n",
       "      <td>30+ Min</td>\n",
       "      <td>True</td>\n",
       "      <td>GJ33MX8328</td>\n",
       "    </tr>\n",
       "    <tr>\n",
       "      <th>65536</th>\n",
       "      <td>2020-02-15</td>\n",
       "      <td>12:16:00</td>\n",
       "      <td>Canada</td>\n",
       "      <td>F</td>\n",
       "      <td>49</td>\n",
       "      <td>63</td>\n",
       "      <td>Black</td>\n",
       "      <td>Seatbelt</td>\n",
       "      <td>Other</td>\n",
       "      <td>False</td>\n",
       "      <td>NaN</td>\n",
       "      <td>Warning</td>\n",
       "      <td>True</td>\n",
       "      <td>0-15 Min</td>\n",
       "      <td>True</td>\n",
       "      <td>KA24UZ8488</td>\n",
       "    </tr>\n",
       "    <tr>\n",
       "      <th>65537</th>\n",
       "      <td>2020-02-15</td>\n",
       "      <td>12:17:00</td>\n",
       "      <td>USA</td>\n",
       "      <td>F</td>\n",
       "      <td>72</td>\n",
       "      <td>32</td>\n",
       "      <td>Other</td>\n",
       "      <td>Seatbelt</td>\n",
       "      <td>Speeding</td>\n",
       "      <td>True</td>\n",
       "      <td>NaN</td>\n",
       "      <td>Ticket</td>\n",
       "      <td>True</td>\n",
       "      <td>16-30 Min</td>\n",
       "      <td>False</td>\n",
       "      <td>UP89PT2924</td>\n",
       "    </tr>\n",
       "  </tbody>\n",
       "</table>\n",
       "<p>65538 rows × 16 columns</p>\n",
       "</div>"
      ],
      "text/plain": [
       "        stop_date stop_time country_name driver_gender  driver_age_raw  \\\n",
       "0      2020-01-01   0:00:00       Canada             M              59   \n",
       "1      2020-01-01   0:01:00        India             M              35   \n",
       "2      2020-01-01   0:02:00          USA             M              26   \n",
       "3      2020-01-01   0:03:00       Canada             M              26   \n",
       "4      2020-01-01   0:04:00       Canada             M              62   \n",
       "...           ...       ...          ...           ...             ...   \n",
       "65533  2020-02-15  12:13:00        India             F              54   \n",
       "65534  2020-02-15  12:14:00       Canada             F              18   \n",
       "65535  2020-02-15  12:15:00          USA             M              27   \n",
       "65536  2020-02-15  12:16:00       Canada             F              49   \n",
       "65537  2020-02-15  12:17:00          USA             F              72   \n",
       "\n",
       "       driver_age driver_race     violation_raw violation  search_conducted  \\\n",
       "0              19       Asian     Drunk Driving  Speeding              True   \n",
       "1              58       Other             Other     Other             False   \n",
       "2              76       Black  Signal Violation  Speeding             False   \n",
       "3              76       Black          Speeding       DUI              True   \n",
       "4              75       Other          Speeding     Other             False   \n",
       "...           ...         ...               ...       ...               ...   \n",
       "65533          48       Black             Other     Other             False   \n",
       "65534          35    Hispanic          Seatbelt     Other              True   \n",
       "65535          41       Asian          Seatbelt       DUI              True   \n",
       "65536          63       Black          Seatbelt     Other             False   \n",
       "65537          32       Other          Seatbelt  Speeding              True   \n",
       "\n",
       "          search_type stop_outcome  is_arrested stop_duration  \\\n",
       "0      Vehicle Search       Ticket         True     16-30 Min   \n",
       "1      Vehicle Search       Arrest         True     16-30 Min   \n",
       "2               Frisk       Ticket         True     16-30 Min   \n",
       "3               Frisk      Warning        False      0-15 Min   \n",
       "4      Vehicle Search       Arrest         True     16-30 Min   \n",
       "...               ...          ...          ...           ...   \n",
       "65533  Vehicle Search       Arrest         True     16-30 Min   \n",
       "65534  Vehicle Search       Ticket        False     16-30 Min   \n",
       "65535           Frisk       Ticket         True       30+ Min   \n",
       "65536             NaN      Warning         True      0-15 Min   \n",
       "65537             NaN       Ticket         True     16-30 Min   \n",
       "\n",
       "       drugs_related_stop vehicle_number  \n",
       "0                    True     UP76DY3473  \n",
       "1                    True     RJ83PZ4441  \n",
       "2                    True     RJ32OM7264  \n",
       "3                    True     RJ76TI3807  \n",
       "4                   False     WB63BB8305  \n",
       "...                   ...            ...  \n",
       "65533               False     DL56GW6568  \n",
       "65534                True     TN73EO7098  \n",
       "65535                True     GJ33MX8328  \n",
       "65536                True     KA24UZ8488  \n",
       "65537               False     UP89PT2924  \n",
       "\n",
       "[65538 rows x 16 columns]"
      ]
     },
     "execution_count": 9,
     "metadata": {},
     "output_type": "execute_result"
    }
   ],
   "source": [
    "df"
   ]
  },
  {
   "cell_type": "code",
   "execution_count": 10,
   "id": "0d2ce170",
   "metadata": {},
   "outputs": [
    {
     "name": "stdout",
     "output_type": "stream",
     "text": [
      "Index(['stop_date', 'stop_time', 'country_name', 'driver_gender',\n",
      "       'driver_age_raw', 'driver_age', 'driver_race', 'violation_raw',\n",
      "       'violation', 'search_conducted', 'search_type', 'stop_outcome',\n",
      "       'is_arrested', 'stop_duration', 'drugs_related_stop', 'vehicle_number'],\n",
      "      dtype='object')\n"
     ]
    }
   ],
   "source": [
    "print(df.columns)"
   ]
  },
  {
   "cell_type": "code",
   "execution_count": null,
   "id": "8e787cec",
   "metadata": {},
   "outputs": [],
   "source": [
    "# Step 2"
   ]
  },
  {
   "cell_type": "code",
   "execution_count": 11,
   "id": "3a2f5b11",
   "metadata": {},
   "outputs": [],
   "source": [
    "df = df.dropna(axis=1, how='all') # Remove columns that contain only missing values"
   ]
  },
  {
   "cell_type": "code",
   "execution_count": 12,
   "id": "db3eb3a2",
   "metadata": {},
   "outputs": [],
   "source": [
    "df = df.fillna(\"Unknown\") #  Handle NaN values (basic option — fill with placeholder or remove)"
   ]
  },
  {
   "cell_type": "code",
   "execution_count": null,
   "id": "c6f2f98d",
   "metadata": {},
   "outputs": [],
   "source": [
    "# Step 3 "
   ]
  },
  {
   "cell_type": "code",
   "execution_count": 13,
   "id": "51b245c7",
   "metadata": {},
   "outputs": [
    {
     "name": "stdout",
     "output_type": "stream",
     "text": [
      "Index(['stop_date', 'stop_time', 'country_name', 'driver_gender',\n",
      "       'driver_age_raw', 'driver_age', 'driver_race', 'violation_raw',\n",
      "       'violation', 'search_conducted', 'search_type', 'stop_outcome',\n",
      "       'is_arrested', 'stop_duration', 'drugs_related_stop', 'vehicle_number'],\n",
      "      dtype='object')\n"
     ]
    }
   ],
   "source": [
    "print(df.columns) ## finding the date and time column "
   ]
  },
  {
   "cell_type": "code",
   "execution_count": 14,
   "id": "44aedc73",
   "metadata": {},
   "outputs": [
    {
     "name": "stdout",
     "output_type": "stream",
     "text": [
      "object\n"
     ]
    }
   ],
   "source": [
    "print(df['stop_time'].dtype) ## data type of the columns"
   ]
  },
  {
   "cell_type": "code",
   "execution_count": 15,
   "id": "05f7230d",
   "metadata": {},
   "outputs": [
    {
     "name": "stdout",
     "output_type": "stream",
     "text": [
      "0    0:00:00\n",
      "1    0:01:00\n",
      "2    0:02:00\n",
      "3    0:03:00\n",
      "4    0:04:00\n",
      "Name: stop_time, dtype: object\n"
     ]
    }
   ],
   "source": [
    "print(df['stop_time'].head())"
   ]
  },
  {
   "cell_type": "code",
   "execution_count": 16,
   "id": "a129c3bf",
   "metadata": {},
   "outputs": [
    {
     "name": "stdout",
     "output_type": "stream",
     "text": [
      "Index(['stop_date', 'stop_time', 'country_name', 'driver_gender',\n",
      "       'driver_age_raw', 'driver_age', 'driver_race', 'violation_raw',\n",
      "       'violation', 'search_conducted', 'search_type', 'stop_outcome',\n",
      "       'is_arrested', 'stop_duration', 'drugs_related_stop', 'vehicle_number'],\n",
      "      dtype='object')\n"
     ]
    }
   ],
   "source": [
    "print(df.columns) ## checking the column names "
   ]
  },
  {
   "cell_type": "code",
   "execution_count": 17,
   "id": "fe072ad8",
   "metadata": {},
   "outputs": [],
   "source": [
    "df.columns = df.columns.str.strip() ##  removes leading/trailing spaces"
   ]
  },
  {
   "cell_type": "code",
   "execution_count": null,
   "id": "324a6854",
   "metadata": {},
   "outputs": [
    {
     "name": "stderr",
     "output_type": "stream",
     "text": [
      "C:\\Users\\brind\\AppData\\Local\\Temp\\ipykernel_17556\\121573812.py:2: UserWarning: Could not infer format, so each element will be parsed individually, falling back to `dateutil`. To ensure parsing is consistent and as-expected, please specify a format.\n",
      "  df['timestamp'] = pd.to_datetime(df['timestamp'], errors='coerce')\n"
     ]
    }
   ],
   "source": [
    "df['timestamp'] = df['stop_date'].astype(str) + ' ' + df['stop_time'].astype(str) ## we are correcting the format of the year and the timestamp \n",
    "df['timestamp'] = pd.to_datetime(df['timestamp'], errors='coerce')"
   ]
  },
  {
   "cell_type": "code",
   "execution_count": 19,
   "id": "45ba3de3",
   "metadata": {},
   "outputs": [
    {
     "ename": "KeyError",
     "evalue": "\"['timestamp'] not in index\"",
     "output_type": "error",
     "traceback": [
      "\u001b[31m---------------------------------------------------------------------------\u001b[39m",
      "\u001b[31mKeyError\u001b[39m                                  Traceback (most recent call last)",
      "\u001b[36mCell\u001b[39m\u001b[36m \u001b[39m\u001b[32mIn[19]\u001b[39m\u001b[32m, line 1\u001b[39m\n\u001b[32m----> \u001b[39m\u001b[32m1\u001b[39m \u001b[38;5;28mprint\u001b[39m(\u001b[43mdf\u001b[49m\u001b[43m[\u001b[49m\u001b[43m[\u001b[49m\u001b[33;43m'\u001b[39;49m\u001b[33;43mstop_date\u001b[39;49m\u001b[33;43m'\u001b[39;49m\u001b[43m,\u001b[49m\u001b[43m \u001b[49m\u001b[33;43m'\u001b[39;49m\u001b[33;43mstop_time\u001b[39;49m\u001b[33;43m'\u001b[39;49m\u001b[43m,\u001b[49m\u001b[43m \u001b[49m\u001b[33;43m'\u001b[39;49m\u001b[33;43mtimestamp\u001b[39;49m\u001b[33;43m'\u001b[39;49m\u001b[43m]\u001b[49m\u001b[43m]\u001b[49m.head()) \n\u001b[32m      2\u001b[39m \u001b[38;5;28mprint\u001b[39m(df[\u001b[33m'\u001b[39m\u001b[33mtimestamp\u001b[39m\u001b[33m'\u001b[39m].dtype)\n\u001b[32m      4\u001b[39m \u001b[38;5;66;03m## checking the timestamp format\u001b[39;00m\n",
      "\u001b[36mFile \u001b[39m\u001b[32mc:\\MyNewProject\\.venv\\Lib\\site-packages\\pandas\\core\\frame.py:4108\u001b[39m, in \u001b[36mDataFrame.__getitem__\u001b[39m\u001b[34m(self, key)\u001b[39m\n\u001b[32m   4106\u001b[39m     \u001b[38;5;28;01mif\u001b[39;00m is_iterator(key):\n\u001b[32m   4107\u001b[39m         key = \u001b[38;5;28mlist\u001b[39m(key)\n\u001b[32m-> \u001b[39m\u001b[32m4108\u001b[39m     indexer = \u001b[38;5;28;43mself\u001b[39;49m\u001b[43m.\u001b[49m\u001b[43mcolumns\u001b[49m\u001b[43m.\u001b[49m\u001b[43m_get_indexer_strict\u001b[49m\u001b[43m(\u001b[49m\u001b[43mkey\u001b[49m\u001b[43m,\u001b[49m\u001b[43m \u001b[49m\u001b[33;43m\"\u001b[39;49m\u001b[33;43mcolumns\u001b[39;49m\u001b[33;43m\"\u001b[39;49m\u001b[43m)\u001b[49m[\u001b[32m1\u001b[39m]\n\u001b[32m   4110\u001b[39m \u001b[38;5;66;03m# take() does not accept boolean indexers\u001b[39;00m\n\u001b[32m   4111\u001b[39m \u001b[38;5;28;01mif\u001b[39;00m \u001b[38;5;28mgetattr\u001b[39m(indexer, \u001b[33m\"\u001b[39m\u001b[33mdtype\u001b[39m\u001b[33m\"\u001b[39m, \u001b[38;5;28;01mNone\u001b[39;00m) == \u001b[38;5;28mbool\u001b[39m:\n",
      "\u001b[36mFile \u001b[39m\u001b[32mc:\\MyNewProject\\.venv\\Lib\\site-packages\\pandas\\core\\indexes\\base.py:6200\u001b[39m, in \u001b[36mIndex._get_indexer_strict\u001b[39m\u001b[34m(self, key, axis_name)\u001b[39m\n\u001b[32m   6197\u001b[39m \u001b[38;5;28;01melse\u001b[39;00m:\n\u001b[32m   6198\u001b[39m     keyarr, indexer, new_indexer = \u001b[38;5;28mself\u001b[39m._reindex_non_unique(keyarr)\n\u001b[32m-> \u001b[39m\u001b[32m6200\u001b[39m \u001b[38;5;28;43mself\u001b[39;49m\u001b[43m.\u001b[49m\u001b[43m_raise_if_missing\u001b[49m\u001b[43m(\u001b[49m\u001b[43mkeyarr\u001b[49m\u001b[43m,\u001b[49m\u001b[43m \u001b[49m\u001b[43mindexer\u001b[49m\u001b[43m,\u001b[49m\u001b[43m \u001b[49m\u001b[43maxis_name\u001b[49m\u001b[43m)\u001b[49m\n\u001b[32m   6202\u001b[39m keyarr = \u001b[38;5;28mself\u001b[39m.take(indexer)\n\u001b[32m   6203\u001b[39m \u001b[38;5;28;01mif\u001b[39;00m \u001b[38;5;28misinstance\u001b[39m(key, Index):\n\u001b[32m   6204\u001b[39m     \u001b[38;5;66;03m# GH 42790 - Preserve name from an Index\u001b[39;00m\n",
      "\u001b[36mFile \u001b[39m\u001b[32mc:\\MyNewProject\\.venv\\Lib\\site-packages\\pandas\\core\\indexes\\base.py:6252\u001b[39m, in \u001b[36mIndex._raise_if_missing\u001b[39m\u001b[34m(self, key, indexer, axis_name)\u001b[39m\n\u001b[32m   6249\u001b[39m     \u001b[38;5;28;01mraise\u001b[39;00m \u001b[38;5;167;01mKeyError\u001b[39;00m(\u001b[33mf\u001b[39m\u001b[33m\"\u001b[39m\u001b[33mNone of [\u001b[39m\u001b[38;5;132;01m{\u001b[39;00mkey\u001b[38;5;132;01m}\u001b[39;00m\u001b[33m] are in the [\u001b[39m\u001b[38;5;132;01m{\u001b[39;00maxis_name\u001b[38;5;132;01m}\u001b[39;00m\u001b[33m]\u001b[39m\u001b[33m\"\u001b[39m)\n\u001b[32m   6251\u001b[39m not_found = \u001b[38;5;28mlist\u001b[39m(ensure_index(key)[missing_mask.nonzero()[\u001b[32m0\u001b[39m]].unique())\n\u001b[32m-> \u001b[39m\u001b[32m6252\u001b[39m \u001b[38;5;28;01mraise\u001b[39;00m \u001b[38;5;167;01mKeyError\u001b[39;00m(\u001b[33mf\u001b[39m\u001b[33m\"\u001b[39m\u001b[38;5;132;01m{\u001b[39;00mnot_found\u001b[38;5;132;01m}\u001b[39;00m\u001b[33m not in index\u001b[39m\u001b[33m\"\u001b[39m)\n",
      "\u001b[31mKeyError\u001b[39m: \"['timestamp'] not in index\""
     ]
    }
   ],
   "source": [
    "print(df[['stop_date', 'stop_time', 'timestamp']].head()) \n",
    "print(df['timestamp'].dtype)\n",
    "\n",
    "## checking the timestamp format"
   ]
  },
  {
   "cell_type": "code",
   "execution_count": 20,
   "id": "984da2ba",
   "metadata": {},
   "outputs": [],
   "source": [
    "df.to_csv(\"traffic_stops_cleaned.csv\", index=False)"
   ]
  },
  {
   "cell_type": "code",
   "execution_count": null,
   "id": "4da8d320",
   "metadata": {},
   "outputs": [],
   "source": [
    "#Step 4 "
   ]
  },
  {
   "cell_type": "code",
   "execution_count": 21,
   "id": "40efffdb",
   "metadata": {},
   "outputs": [
    {
     "name": "stdout",
     "output_type": "stream",
     "text": [
      "Data inserted into police_logs successfully!\n"
     ]
    }
   ],
   "source": [
    "from sqlalchemy import create_engine\n",
    "import pandas as pd\n",
    "\n",
    "\n",
    "\n",
    "# PostgreSQL connection details\n",
    "db_user = 'postgres'\n",
    "db_password = '1234'          # Your real password\n",
    "db_host = 'localhost'\n",
    "db_port = '5432'\n",
    "db_name = 'securecheck_db'\n",
    "\n",
    "# Create SQLAlchemy engine\n",
    "engine = create_engine(f'postgresql+psycopg2://{db_user}:{db_password}@{db_host}:{db_port}/{db_name}')\n",
    "\n",
    "# Insert DataFrame into PostgreSQL\n",
    "\n",
    "df.to_sql('police_logs', engine, if_exists='append', index=False)\n",
    "\n",
    "print(\"Data inserted into police_logs successfully!\")"
   ]
  },
  {
   "cell_type": "code",
   "execution_count": null,
   "id": "d1499ec9",
   "metadata": {},
   "outputs": [],
   "source": [
    "#step 5  ## checking if the data is been inserted in the postgresql (yes its done!)"
   ]
  },
  {
   "cell_type": "code",
   "execution_count": null,
   "id": "4defff0e",
   "metadata": {},
   "outputs": [],
   "source": []
  }
 ],
 "metadata": {
  "kernelspec": {
   "display_name": ".venv",
   "language": "python",
   "name": "python3"
  },
  "language_info": {
   "codemirror_mode": {
    "name": "ipython",
    "version": 3
   },
   "file_extension": ".py",
   "mimetype": "text/x-python",
   "name": "python",
   "nbconvert_exporter": "python",
   "pygments_lexer": "ipython3",
   "version": "3.12.10"
  }
 },
 "nbformat": 4,
 "nbformat_minor": 5
}
